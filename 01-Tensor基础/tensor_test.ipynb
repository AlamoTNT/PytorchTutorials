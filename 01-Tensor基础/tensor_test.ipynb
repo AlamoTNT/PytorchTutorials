{
 "cells": [
  {
   "cell_type": "markdown",
   "id": "dc8bdd28",
   "metadata": {},
   "source": [
    "jupyter notebook不能直接识别CUDA，需要以下准备工作：\n",
    "1. pip install ipykernel\n",
    "2. python -m ipykernel install --name pytorch   # pytorch为自定义的内核名\n",
    "\n",
    "在new打开新的.ipynb时不选择python3而是选择上述自定义的内核pytorch即可"
   ]
  },
  {
   "cell_type": "code",
   "execution_count": 1,
   "id": "cd28ad2b",
   "metadata": {},
   "outputs": [
    {
     "name": "stdout",
     "output_type": "stream",
     "text": [
      "Wed Apr 19 21:22:58 2023       \n",
      "+-----------------------------------------------------------------------------+\n",
      "| NVIDIA-SMI 462.31       Driver Version: 462.31       CUDA Version: 11.2     |\n",
      "|-------------------------------+----------------------+----------------------+\n",
      "| GPU  Name            TCC/WDDM | Bus-Id        Disp.A | Volatile Uncorr. ECC |\n",
      "| Fan  Temp  Perf  Pwr:Usage/Cap|         Memory-Usage | GPU-Util  Compute M. |\n",
      "|                               |                      |               MIG M. |\n",
      "|===============================+======================+======================|\n",
      "|   0  GeForce GTX 106... WDDM  | 00000000:01:00.0  On |                  N/A |\n",
      "| N/A   54C    P8     4W /  N/A |    237MiB /  6144MiB |      0%      Default |\n",
      "|                               |                      |                  N/A |\n",
      "+-------------------------------+----------------------+----------------------+\n",
      "                                                                               \n",
      "+-----------------------------------------------------------------------------+\n",
      "| Processes:                                                                  |\n",
      "|  GPU   GI   CI        PID   Type   Process name                  GPU Memory |\n",
      "|        ID   ID                                                   Usage      |\n",
      "|=============================================================================|\n",
      "|    0   N/A  N/A      1440    C+G   Insufficient Permissions        N/A      |\n",
      "|    0   N/A  N/A      8196    C+G   ...\\Kinect\\KinectService.exe    N/A      |\n",
      "+-----------------------------------------------------------------------------+\n"
     ]
    }
   ],
   "source": [
    "!nvidia-smi"
   ]
  },
  {
   "cell_type": "code",
   "execution_count": 1,
   "id": "a272a72b",
   "metadata": {},
   "outputs": [
    {
     "name": "stdout",
     "output_type": "stream",
     "text": [
      "None\n",
      "是否支持GPU： True\n",
      "可用的GPU数量： 1\n",
      "device： cuda\n",
      "当前设备索引： 0\n"
     ]
    }
   ],
   "source": [
    "import torch\n",
    "\n",
    "# 查看是否支持CUDA\n",
    "print(\"是否支持GPU：\", torch.cuda.is_available())\n",
    "print(\"可用的GPU数量：\", torch.cuda.device_count())\n",
    "device = torch.device(\"cuda\" if torch.cuda.is_available() else \"cpu\")\n",
    "print(\"device：\", device)\n",
    "print(\"当前设备索引：\", torch.cuda.current_device())"
   ]
  },
  {
   "cell_type": "markdown",
   "id": "9232da22",
   "metadata": {},
   "source": [
    "## 随机抽样函数"
   ]
  },
  {
   "cell_type": "markdown",
   "id": "1af03400",
   "metadata": {},
   "source": [
    "1. torch.seed()：生成不确定的随机数"
   ]
  },
  {
   "cell_type": "code",
   "execution_count": 3,
   "id": "cc2ddbd8",
   "metadata": {},
   "outputs": [
    {
     "data": {
      "text/plain": [
       "663069032300"
      ]
     },
     "execution_count": 3,
     "metadata": {},
     "output_type": "execute_result"
    }
   ],
   "source": [
    "torch.seed()"
   ]
  },
  {
   "cell_type": "markdown",
   "id": "c4cc63f6",
   "metadata": {},
   "source": [
    "2. torch.manual_seed(seed)：设定生成随机数的种子，返回一个torch.Generator对象\n",
    "\n",
    "      参数：种子seed为int或long类型，生成的随机数是固定的"
   ]
  },
  {
   "cell_type": "code",
   "execution_count": 4,
   "id": "af0cfba7",
   "metadata": {},
   "outputs": [
    {
     "name": "stdout",
     "output_type": "stream",
     "text": [
      "<torch._C.Generator object at 0x00000255BD920E30>\n",
      "<torch._C.Generator object at 0x00000255BD920E30>\n"
     ]
    }
   ],
   "source": [
    "# 为CPU设置种子，生成随机数\n",
    "print(torch.manual_seed(1))\n",
    "print(torch.manual_seed(1))"
   ]
  },
  {
   "cell_type": "code",
   "execution_count": 6,
   "id": "4f67e2a5",
   "metadata": {},
   "outputs": [
    {
     "name": "stdout",
     "output_type": "stream",
     "text": [
      "tensor([[0.6514, 0.1827]])\n"
     ]
    }
   ],
   "source": [
    "# 为GPU设置种子，生成随机数\n",
    "print(torch.cuda.manual_seed(1000))\n",
    "print(torch.rand(1, 2))"
   ]
  },
  {
   "cell_type": "code",
   "execution_count": 41,
   "id": "f0437445",
   "metadata": {},
   "outputs": [
    {
     "name": "stdout",
     "output_type": "stream",
     "text": [
      "None\n"
     ]
    }
   ],
   "source": [
    "# 为所有GPU设置种子\n",
    "print(torch.cuda.manual_seed_all(2023))"
   ]
  },
  {
   "cell_type": "code",
   "execution_count": 29,
   "id": "ed254491",
   "metadata": {},
   "outputs": [
    {
     "name": "stdout",
     "output_type": "stream",
     "text": [
      "tensor([0.4290])\n"
     ]
    }
   ],
   "source": [
    "# 不设置随机种子，生成随机数，每次运行结果都不一样\n",
    "torch.manual_seed(2023)\n",
    "print(torch.rand(1))"
   ]
  },
  {
   "cell_type": "markdown",
   "id": "227f1425",
   "metadata": {},
   "source": [
    "GPU的种子设置好像有有问题，随机数并未固定不变"
   ]
  },
  {
   "cell_type": "markdown",
   "id": "f8930c41",
   "metadata": {},
   "source": [
    "3. torch.initial_seed()：返回生成随机数的原始种子值"
   ]
  },
  {
   "cell_type": "code",
   "execution_count": 42,
   "id": "8714ac7d",
   "metadata": {},
   "outputs": [
    {
     "name": "stdout",
     "output_type": "stream",
     "text": [
      "2023\n",
      "2023\n"
     ]
    }
   ],
   "source": [
    "print(torch.initial_seed())\n",
    "print(torch.cuda.initial_seed())"
   ]
  },
  {
   "cell_type": "markdown",
   "id": "95761f68",
   "metadata": {},
   "source": [
    "## Tensor的创建方法"
   ]
  },
  {
   "cell_type": "markdown",
   "id": "cd741afe",
   "metadata": {},
   "source": [
    "1. torch.tensor()直接创建\n",
    "\n",
    "   torch.tensor(data, dtype=None, device=None, requires_grad=False, pin_memory=False)\n",
    "   \n",
    "   &data: 数据，可以是list或numpy\n",
    "   \n",
    "   &dtype: 数据类型，默认与data保持一致\n",
    "   \n",
    "   &device: 张量所在的设备，cuda或cpu\n",
    "   \n",
    "   &requires_grad: 是否需要梯度\n",
    "   \n",
    "   &pin_memory: 是否存于锁存内存，锁页内存，设置为True时将内存的Tensor转义到GPU的显存会更快一些\n",
    "   "
   ]
  },
  {
   "cell_type": "code",
   "execution_count": 7,
   "id": "8435046f",
   "metadata": {},
   "outputs": [
    {
     "name": "stdout",
     "output_type": "stream",
     "text": [
      "原始数据类型： float64\n",
      "tensor([[1., 1., 1.],\n",
      "        [1., 1., 1.],\n",
      "        [1., 1., 1.]], dtype=torch.float64)\n"
     ]
    }
   ],
   "source": [
    "import numpy as np\n",
    "\n",
    "arr = np.ones((3, 3))\n",
    "print(\"原始数据类型：\", arr.dtype)\n",
    "t = torch.tensor(arr)\n",
    "print(t)"
   ]
  },
  {
   "cell_type": "code",
   "execution_count": 8,
   "id": "1ecf1b4c",
   "metadata": {},
   "outputs": [
    {
     "name": "stdout",
     "output_type": "stream",
     "text": [
      "tensor([[1., 1., 1.],\n",
      "        [1., 1., 1.],\n",
      "        [1., 1., 1.]], device='cuda:0', dtype=torch.float64)\n"
     ]
    }
   ],
   "source": [
    "# 若直接一个放在GPU中的数据\n",
    "tt = torch.tensor(arr, device=device)\n",
    "print(tt)"
   ]
  },
  {
   "cell_type": "markdown",
   "id": "90fba77c",
   "metadata": {},
   "source": [
    "2. torch.from_numpy(ndarray)：从numpy创建tensor\n",
    "\n",
    "   该方法创建的tensor和原来的ndarray共享内存，修改tensor，ndarray中的数据页也会被修改"
   ]
  },
  {
   "cell_type": "code",
   "execution_count": 10,
   "id": "9ffd073d",
   "metadata": {},
   "outputs": [
    {
     "name": "stdout",
     "output_type": "stream",
     "text": [
      "原始tensor:  tensor([[1, 2, 3],\n",
      "        [4, 5, 6]], dtype=torch.int32)\n",
      "原始numpy数组： [[-1  2  3]\n",
      " [ 4  5  6]]\n",
      "修改后tensor： tensor([[-1,  2,  3],\n",
      "        [ 4,  5,  6]], dtype=torch.int32)\n"
     ]
    }
   ],
   "source": [
    "arr = np.array([[1, 2, 3], [4, 5, 6]])\n",
    "\n",
    "t = torch.from_numpy(arr)\n",
    "print(\"原始tensor: \", t)\n",
    "t[0, 0] = -1\n",
    "print(\"原始numpy数组：\", arr)\n",
    "print(\"修改后tensor：\", t)"
   ]
  },
  {
   "cell_type": "code",
   "execution_count": 17,
   "id": "7e134660",
   "metadata": {},
   "outputs": [
    {
     "name": "stdout",
     "output_type": "stream",
     "text": [
      "tensor([[-1,  2,  3],\n",
      "        [ 4,  5,  6]], device='cuda:0', dtype=torch.int32)\n",
      "tensor([[-1,  2,  3],\n",
      "        [ 4,  5,  6]], dtype=torch.int32)\n"
     ]
    }
   ],
   "source": [
    "# 将tensor设置到CUDA设备,to(device)不是in-place操作\n",
    "print(t.to(\"cuda\"))\n",
    "print(t)"
   ]
  },
  {
   "cell_type": "markdown",
   "id": "b5dcb1b9",
   "metadata": {},
   "source": [
    "3. torch.zeros()：根据size创建全0张量\n",
    "\n",
    "    torch.zeros(*size, out=None, dtype=None, layout=torch.strided, device=None, requires_grad=False)\n",
    "    \n",
    "    &size: 张量的形状\n",
    "    \n",
    "    &out: 输出的张量，如果指定了out，返回的张量和out指向同一个地址\n",
    "    \n",
    "    &layout: 内存中的布局形式，有strided和sparse_coo等，当是稀疏矩阵时设置为sparse_coo可以减少内存占用"
   ]
  },
  {
   "cell_type": "code",
   "execution_count": 20,
   "id": "d8a8f7d6",
   "metadata": {},
   "outputs": [
    {
     "name": "stdout",
     "output_type": "stream",
     "text": [
      "out_t: tensor([1])\n",
      "t: tensor([[0, 0],\n",
      "        [0, 0],\n",
      "        [0, 0]]) \n",
      " out_t: tensor([[0, 0],\n",
      "        [0, 0],\n",
      "        [0, 0]])\n",
      "2803705758640 2803705758640 True\n"
     ]
    }
   ],
   "source": [
    "out_t = torch.tensor([1])\n",
    "print(f'out_t: {out_t}')\n",
    "\n",
    "t = torch.zeros((3, 2), out=out_t)\n",
    "\n",
    "print(f't: {t}', '\\n', f'out_t: {out_t}')\n",
    "print(id(t), id(out_t), id(t) == id(out_t))"
   ]
  },
  {
   "cell_type": "markdown",
   "id": "4ee78ace",
   "metadata": {},
   "source": [
    "4. torch.zeros_like()：根据input形状创建全0的张量\n",
    "\n",
    "    torch.zeros_like(input, dtype=None, device=None, requires_grad=False, memory_format=torch.preserve_format)\n",
    "   \n",
    "   类似的还有torch.ones() torch.ones_like()\n",
    "    "
   ]
  },
  {
   "cell_type": "code",
   "execution_count": 21,
   "id": "e65faca2",
   "metadata": {},
   "outputs": [
    {
     "name": "stdout",
     "output_type": "stream",
     "text": [
      "tensor([[1, 1],\n",
      "        [1, 1],\n",
      "        [1, 1]])\n"
     ]
    }
   ],
   "source": [
    "print(torch.ones_like(t))"
   ]
  },
  {
   "cell_type": "markdown",
   "id": "24aa1db8",
   "metadata": {},
   "source": [
    "5. torch.full(),torch.full_like(): 创建自定义某一数值的张量\n",
    "\n",
    "    torch.full(size, fill_value, out=None, dtype=None, layout=torch.strided, device=None, requires_grad=False)\n",
    "    \n",
    "    &size: 张量的形状\n",
    "    &fill_value: 张量中每一个元素的值"
   ]
  },
  {
   "cell_type": "code",
   "execution_count": 23,
   "id": "378054b8",
   "metadata": {},
   "outputs": [
    {
     "name": "stdout",
     "output_type": "stream",
     "text": [
      "tensor([[6, 6, 6, 6],\n",
      "        [6, 6, 6, 6],\n",
      "        [6, 6, 6, 6]])\n"
     ]
    }
   ],
   "source": [
    "t = torch.full((3, 4), 6)\n",
    "print(t)"
   ]
  },
  {
   "cell_type": "markdown",
   "id": "f34c38c4",
   "metadata": {},
   "source": [
    "6. torch.arange()：创建等差的一维张量\n",
    "\n",
    "    torch.arange(start=0, end, step=1, out=None, dtype=None, layout=torch.strided, device=None, requires_grad=False)\n",
    "    \n",
    "    &start: 数列起始值，默认为0\n",
    "    \n",
    "    &end: 数列结束值，开区间，取不到结束值\n",
    "    \n",
    "    &step: 数列公差，默认为1\n",
    "    "
   ]
  },
  {
   "cell_type": "code",
   "execution_count": 24,
   "id": "6004f844",
   "metadata": {},
   "outputs": [
    {
     "data": {
      "text/plain": [
       "tensor([2, 4, 6, 8])"
      ]
     },
     "execution_count": 24,
     "metadata": {},
     "output_type": "execute_result"
    }
   ],
   "source": [
    "torch.arange(2, 10, 2)"
   ]
  },
  {
   "cell_type": "markdown",
   "id": "ae20800c",
   "metadata": {},
   "source": [
    "7. torch.linspace()：创建均分的一维张量\n",
    "\n",
    "    torch.linspace(start, end, steps=100, out=None, dtype=None, layout=torch.strided, device=None, requires_grad=False)\n",
    "    \n",
    "    &steps: 数列长度（元素个数）"
   ]
  },
  {
   "cell_type": "code",
   "execution_count": 25,
   "id": "13a04ae7",
   "metadata": {},
   "outputs": [
    {
     "data": {
      "text/plain": [
       "tensor([ 2.0000,  3.6000,  5.2000,  6.8000,  8.4000, 10.0000])"
      ]
     },
     "execution_count": 25,
     "metadata": {},
     "output_type": "execute_result"
    }
   ],
   "source": [
    "torch.linspace(2, 10, 6)"
   ]
  },
  {
   "cell_type": "markdown",
   "id": "9e3bbec8",
   "metadata": {},
   "source": [
    "8. torch.logspace()：创建对数均分的一维张量\n",
    "\n",
    "    &steps: 数列长度\n",
    "    &base: 对数的底，默认为10"
   ]
  },
  {
   "cell_type": "code",
   "execution_count": 26,
   "id": "a66cead0",
   "metadata": {},
   "outputs": [
    {
     "name": "stdout",
     "output_type": "stream",
     "text": [
      "tensor([   100.0000,   3162.2776, 100000.0000])\n"
     ]
    }
   ],
   "source": [
    "print(torch.logspace(2, 5, 3))"
   ]
  },
  {
   "cell_type": "markdown",
   "id": "e7213f40",
   "metadata": {},
   "source": [
    "9. torch.eye()：创建单位对角矩阵\n",
    "\n",
    "    torch.eye(n, m=None, out=None, dtype=None, layout=torch.strided, device=None, requires_grad=False)\n",
    "    \n",
    "    &n: 矩阵行数，通常只设置n，为方针\n",
    "    &m: 矩阵列数"
   ]
  },
  {
   "cell_type": "code",
   "execution_count": 27,
   "id": "3d42d3b6",
   "metadata": {},
   "outputs": [
    {
     "name": "stdout",
     "output_type": "stream",
     "text": [
      "tensor([[1., 0., 0., 0., 0.],\n",
      "        [0., 1., 0., 0., 0.],\n",
      "        [0., 0., 1., 0., 0.],\n",
      "        [0., 0., 0., 1., 0.],\n",
      "        [0., 0., 0., 0., 1.]])\n",
      "tensor([[1., 0., 0.],\n",
      "        [0., 1., 0.],\n",
      "        [0., 0., 1.],\n",
      "        [0., 0., 0.],\n",
      "        [0., 0., 0.]])\n"
     ]
    }
   ],
   "source": [
    "print(torch.eye(5))\n",
    "print(torch.eye(5, 3))"
   ]
  },
  {
   "cell_type": "markdown",
   "id": "601f94ba",
   "metadata": {},
   "source": [
    "### 根据概率创建Tensor"
   ]
  },
  {
   "cell_type": "markdown",
   "id": "d5627237",
   "metadata": {},
   "source": [
    "1. torch.normal(): 生成正态分布（高斯分布），返回一个张量，包含从给定参数means,std的离散正态分布中抽取随机数。\n",
    "    \n",
    "    torch.normal(mean, std, *, generator=None, out=None）\n",
    "    \n",
    "    &mean: 均值\n",
    "    &std: 标准差"
   ]
  },
  {
   "cell_type": "code",
   "execution_count": 28,
   "id": "a4e1c024",
   "metadata": {},
   "outputs": [
    {
     "name": "stdout",
     "output_type": "stream",
     "text": [
      "tensor([[ 0.5867, -0.4719, -0.6534, -0.9926],\n",
      "        [-0.0737, -0.7257,  0.5127, -0.3303],\n",
      "        [-0.1518, -1.6457, -0.1259,  0.1261]])\n"
     ]
    }
   ],
   "source": [
    "# mean和std均为标量\n",
    "print(torch.normal(0., 1., size=(3, 4)))"
   ]
  },
  {
   "cell_type": "code",
   "execution_count": 30,
   "id": "e8fce4ea",
   "metadata": {},
   "outputs": [
    {
     "name": "stdout",
     "output_type": "stream",
     "text": [
      "tensor([1.1194, 0.9597, 2.8995, 3.9450])\n"
     ]
    }
   ],
   "source": [
    "# mean为张量，std为标量\n",
    "print(torch.normal(torch.arange(1, 5, 1, dtype=torch.float), 1))"
   ]
  },
  {
   "cell_type": "code",
   "execution_count": 31,
   "id": "c27a00d7",
   "metadata": {},
   "outputs": [
    {
     "name": "stdout",
     "output_type": "stream",
     "text": [
      "tensor([1.1866, 0.1724, 3.7337, 1.7283])\n"
     ]
    }
   ],
   "source": [
    "# mean和std均为张量\n",
    "print(torch.normal(torch.arange(1, 5, 1, dtype=torch.float), torch.arange(1, 5, 1, dtype=torch.float)))"
   ]
  },
  {
   "cell_type": "markdown",
   "id": "14fe8e0f",
   "metadata": {},
   "source": [
    "2. torch.rand()和torch.rand_like(): 在区间上生成均匀分布\n",
    "\n",
    "    torch.rand(*size, out=None, dtype=None, layout=torch.strided, device=None, requires_grad=False)"
   ]
  },
  {
   "cell_type": "code",
   "execution_count": 32,
   "id": "862e04d6",
   "metadata": {},
   "outputs": [
    {
     "name": "stdout",
     "output_type": "stream",
     "text": [
      "tensor([[0.3669, 0.6483, 0.9769, 0.1550],\n",
      "        [0.7877, 0.5785, 0.3953, 0.3998],\n",
      "        [0.2483, 0.1760, 0.4140, 0.3999]])\n"
     ]
    }
   ],
   "source": [
    "print(torch.rand(3, 4))"
   ]
  },
  {
   "cell_type": "markdown",
   "id": "ba1e32d5",
   "metadata": {},
   "source": [
    "3. torch.randint()和torch.randint_like()：左开右闭区间，生成整数均匀分布\n",
    "\n",
    "    torch.randint(low=0, high, size, *, generator=None, out=None, dtype=None, layout=torch.strided, device=None, requires_grad=False)"
   ]
  },
  {
   "cell_type": "code",
   "execution_count": 33,
   "id": "1a0e7f36",
   "metadata": {},
   "outputs": [
    {
     "name": "stdout",
     "output_type": "stream",
     "text": [
      "tensor([[14, 59, 39, 41, 83],\n",
      "        [63, 26, 99, 92, 44],\n",
      "        [51, 17, 16, 51, 58],\n",
      "        [54, 82, 35, 61, 48]])\n"
     ]
    }
   ],
   "source": [
    "print(torch.randint(10, 100, (4, 5)))"
   ]
  },
  {
   "cell_type": "markdown",
   "id": "7874a1e4",
   "metadata": {},
   "source": [
    "4. torch.randperm()：生成0到n-1的随机排列"
   ]
  },
  {
   "cell_type": "code",
   "execution_count": 37,
   "id": "b1adeb43",
   "metadata": {},
   "outputs": [
    {
     "name": "stdout",
     "output_type": "stream",
     "text": [
      "tensor([3, 0, 2, 1])\n"
     ]
    }
   ],
   "source": [
    "print(torch.randperm(4))"
   ]
  },
  {
   "cell_type": "markdown",
   "id": "894c59c5",
   "metadata": {},
   "source": [
    "5. torch.bernoulli(): 以input为概率，生成伯努利分布（0-1分布，两点分布）\n",
    "\n",
    "    torch.bernoulli(input, *, generator=None, out=None)"
   ]
  },
  {
   "cell_type": "code",
   "execution_count": 44,
   "id": "0646f118",
   "metadata": {},
   "outputs": [
    {
     "ename": "RuntimeError",
     "evalue": "\"bernoulli_tensor_cpu_p_\" not implemented for 'Long'",
     "output_type": "error",
     "traceback": [
      "\u001b[1;31m---------------------------------------------------------------------------\u001b[0m",
      "\u001b[1;31mRuntimeError\u001b[0m                              Traceback (most recent call last)",
      "Cell \u001b[1;32mIn[44], line 1\u001b[0m\n\u001b[1;32m----> 1\u001b[0m \u001b[38;5;28mprint\u001b[39m(\u001b[43mtorch\u001b[49m\u001b[38;5;241;43m.\u001b[39;49m\u001b[43mbernoulli\u001b[49m\u001b[43m(\u001b[49m\u001b[43mtorch\u001b[49m\u001b[38;5;241;43m.\u001b[39;49m\u001b[43mrandint\u001b[49m\u001b[43m(\u001b[49m\u001b[38;5;241;43m10\u001b[39;49m\u001b[43m,\u001b[49m\u001b[43m \u001b[49m\u001b[38;5;241;43m100\u001b[39;49m\u001b[43m,\u001b[49m\u001b[43m \u001b[49m\u001b[43m(\u001b[49m\u001b[38;5;241;43m4\u001b[39;49m\u001b[43m,\u001b[49m\u001b[43m \u001b[49m\u001b[38;5;241;43m5\u001b[39;49m\u001b[43m)\u001b[49m\u001b[43m)\u001b[49m\u001b[43m)\u001b[49m)\n",
      "\u001b[1;31mRuntimeError\u001b[0m: \"bernoulli_tensor_cpu_p_\" not implemented for 'Long'"
     ]
    }
   ],
   "source": [
    "print(torch.bernoulli(torch.randint(10, 100, (4, 5))))"
   ]
  },
  {
   "cell_type": "code",
   "execution_count": 49,
   "id": "7204636f",
   "metadata": {},
   "outputs": [
    {
     "name": "stdout",
     "output_type": "stream",
     "text": [
      "tensor([[0.3043, 0.1039, 0.6472],\n",
      "        [0.0592, 0.0811, 0.6778],\n",
      "        [0.9146, 0.7838, 0.1126]])\n"
     ]
    }
   ],
   "source": [
    "print(torch.empty(3, 3).uniform_(0, 1))"
   ]
  },
  {
   "cell_type": "code",
   "execution_count": 56,
   "id": "168d4812",
   "metadata": {},
   "outputs": [
    {
     "name": "stdout",
     "output_type": "stream",
     "text": [
      "tensor([[0., 0., 0.],\n",
      "        [0., 0., 0.],\n",
      "        [0., 0., 0.]])\n",
      "tensor([[0., 0., 0.],\n",
      "        [0., 0., 0.],\n",
      "        [0., 0., 0.]])\n"
     ]
    }
   ],
   "source": [
    "\n",
    "print(torch.zeros(3, 3))\n",
    "print(torch.empty(3, 3))\n",
    "torch.set_printoptions(precision=36)"
   ]
  },
  {
   "cell_type": "code",
   "execution_count": null,
   "id": "19808b48",
   "metadata": {},
   "outputs": [],
   "source": []
  },
  {
   "cell_type": "code",
   "execution_count": null,
   "id": "fd00e989",
   "metadata": {},
   "outputs": [],
   "source": []
  }
 ],
 "metadata": {
  "kernelspec": {
   "display_name": "pytorch",
   "language": "python",
   "name": "pytorch"
  },
  "language_info": {
   "codemirror_mode": {
    "name": "ipython",
    "version": 3
   },
   "file_extension": ".py",
   "mimetype": "text/x-python",
   "name": "python",
   "nbconvert_exporter": "python",
   "pygments_lexer": "ipython3",
   "version": "3.10.10"
  }
 },
 "nbformat": 4,
 "nbformat_minor": 5
}
